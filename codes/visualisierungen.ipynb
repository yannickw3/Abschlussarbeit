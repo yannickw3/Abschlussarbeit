{
 "cells": [
  {
   "cell_type": "code",
   "execution_count": 2,
   "metadata": {},
   "outputs": [],
   "source": [
    "# ich importiere die benötigten Libraries\n",
    "\n",
    "import pandas as pd\n",
    "%matplotlib inline"
   ]
  },
  {
   "cell_type": "markdown",
   "metadata": {},
   "source": [
    "## Saison 18/19"
   ]
  },
  {
   "cell_type": "code",
   "execution_count": 2,
   "metadata": {},
   "outputs": [],
   "source": [
    "# ich lese die csv-Datei ein, die ich vom Scraping abgespeichert habe und definiere sie als Dataframe:\n",
    "\n",
    "df_1819 = pd.read_csv('saison_1819.csv')"
   ]
  },
  {
   "cell_type": "code",
   "execution_count": 16,
   "metadata": {},
   "outputs": [
    {
     "data": {
      "text/html": [
       "<div>\n",
       "<style scoped>\n",
       "    .dataframe tbody tr th:only-of-type {\n",
       "        vertical-align: middle;\n",
       "    }\n",
       "\n",
       "    .dataframe tbody tr th {\n",
       "        vertical-align: top;\n",
       "    }\n",
       "\n",
       "    .dataframe thead th {\n",
       "        text-align: right;\n",
       "    }\n",
       "</style>\n",
       "<table border=\"1\" class=\"dataframe\">\n",
       "  <thead>\n",
       "    <tr style=\"text-align: right;\">\n",
       "      <th></th>\n",
       "      <th>Unnamed: 0</th>\n",
       "      <th>Club</th>\n",
       "      <th>Marktwert</th>\n",
       "      <th>Punkte</th>\n",
       "      <th>Geld_pro_Punkt</th>\n",
       "    </tr>\n",
       "  </thead>\n",
       "  <tbody>\n",
       "    <tr>\n",
       "      <th>2</th>\n",
       "      <td>0</td>\n",
       "      <td>BSC Young Boys</td>\n",
       "      <td>69.25</td>\n",
       "      <td>49</td>\n",
       "      <td>1.413265</td>\n",
       "    </tr>\n",
       "    <tr>\n",
       "      <th>0</th>\n",
       "      <td>1</td>\n",
       "      <td>FC Basel</td>\n",
       "      <td>50.25</td>\n",
       "      <td>30</td>\n",
       "      <td>1.675000</td>\n",
       "    </tr>\n",
       "    <tr>\n",
       "      <th>3</th>\n",
       "      <td>2</td>\n",
       "      <td>FC Sion</td>\n",
       "      <td>28.05</td>\n",
       "      <td>21</td>\n",
       "      <td>1.335714</td>\n",
       "    </tr>\n",
       "    <tr>\n",
       "      <th>1</th>\n",
       "      <td>3</td>\n",
       "      <td>Grasshoppers</td>\n",
       "      <td>26.50</td>\n",
       "      <td>17</td>\n",
       "      <td>1.558824</td>\n",
       "    </tr>\n",
       "    <tr>\n",
       "      <th>5</th>\n",
       "      <td>4</td>\n",
       "      <td>FC Luzern</td>\n",
       "      <td>22.95</td>\n",
       "      <td>25</td>\n",
       "      <td>0.918000</td>\n",
       "    </tr>\n",
       "    <tr>\n",
       "      <th>6</th>\n",
       "      <td>5</td>\n",
       "      <td>FC Zürich</td>\n",
       "      <td>21.65</td>\n",
       "      <td>25</td>\n",
       "      <td>0.866000</td>\n",
       "    </tr>\n",
       "    <tr>\n",
       "      <th>8</th>\n",
       "      <td>6</td>\n",
       "      <td>FC St. Gallen</td>\n",
       "      <td>18.90</td>\n",
       "      <td>23</td>\n",
       "      <td>0.821739</td>\n",
       "    </tr>\n",
       "    <tr>\n",
       "      <th>9</th>\n",
       "      <td>7</td>\n",
       "      <td>FC Thun</td>\n",
       "      <td>18.25</td>\n",
       "      <td>28</td>\n",
       "      <td>0.651786</td>\n",
       "    </tr>\n",
       "    <tr>\n",
       "      <th>4</th>\n",
       "      <td>8</td>\n",
       "      <td>FC Lugano</td>\n",
       "      <td>17.63</td>\n",
       "      <td>19</td>\n",
       "      <td>0.927895</td>\n",
       "    </tr>\n",
       "    <tr>\n",
       "      <th>7</th>\n",
       "      <td>9</td>\n",
       "      <td>NE Xamax</td>\n",
       "      <td>10.90</td>\n",
       "      <td>13</td>\n",
       "      <td>0.838462</td>\n",
       "    </tr>\n",
       "  </tbody>\n",
       "</table>\n",
       "</div>"
      ],
      "text/plain": [
       "   Unnamed: 0            Club  Marktwert  Punkte  Geld_pro_Punkt\n",
       "2           0  BSC Young Boys      69.25      49        1.413265\n",
       "0           1        FC Basel      50.25      30        1.675000\n",
       "3           2         FC Sion      28.05      21        1.335714\n",
       "1           3    Grasshoppers      26.50      17        1.558824\n",
       "5           4       FC Luzern      22.95      25        0.918000\n",
       "6           5       FC Zürich      21.65      25        0.866000\n",
       "8           6   FC St. Gallen      18.90      23        0.821739\n",
       "9           7         FC Thun      18.25      28        0.651786\n",
       "4           8       FC Lugano      17.63      19        0.927895\n",
       "7           9        NE Xamax      10.90      13        0.838462"
      ]
     },
     "execution_count": 16,
     "metadata": {},
     "output_type": "execute_result"
    }
   ],
   "source": [
    "# ich sortiere das Dataframe anhand der Spalte 'Marktwert'\n",
    "\n",
    "df_1819.sort_values('Marktwert', ascending=False)"
   ]
  },
  {
   "cell_type": "code",
   "execution_count": 17,
   "metadata": {},
   "outputs": [
    {
     "data": {
      "text/plain": [
       "<matplotlib.axes._subplots.AxesSubplot at 0x1133e1eb8>"
      ]
     },
     "execution_count": 17,
     "metadata": {},
     "output_type": "execute_result"
    },
    {
     "data": {
      "image/png": "[encoded data removed]",
      "text/plain": [
       "<Figure size 432x288 with 1 Axes>"
      ]
     },
     "metadata": {
      "needs_background": "light"
     },
     "output_type": "display_data"
    }
   ],
   "source": [
    "# und erstelle daraus eine Balkengrafik (bar chart)\n",
    "# hier sieht man, wer in der aktuellen Saison über die grösste finanzielle Power verfügte\n",
    "\n",
    "df_1819['Marktwert'].sort_values().plot(kind='barh')"
   ]
  },
  {
   "cell_type": "code",
   "execution_count": 18,
   "metadata": {},
   "outputs": [
    {
     "data": {
      "text/plain": [
       "<matplotlib.axes._subplots.AxesSubplot at 0x1134c8b70>"
      ]
     },
     "execution_count": 18,
     "metadata": {},
     "output_type": "execute_result"
    },
    {
     "data": {
      "image/png": "[encoded data removed]",
      "text/plain": [
       "<Figure size 432x288 with 1 Axes>"
      ]
     },
     "metadata": {
      "needs_background": "light"
     },
     "output_type": "display_data"
    }
   ],
   "source": [
    "# oben sehe ich allerdings noch nicht, welcher Balken zu welchem Club gehört\n",
    "# deshalb muss ich die Spalten 'Club' und 'Marktwert' kombinieren\n",
    "\n",
    "df_1819.groupby('Club')['Marktwert'].sum().sort_values().plot(kind='barh')"
   ]
  },
  {
   "cell_type": "code",
   "execution_count": 20,
   "metadata": {},
   "outputs": [
    {
     "data": {
      "text/plain": [
       "<matplotlib.axes._subplots.AxesSubplot at 0x1137ad860>"
      ]
     },
     "execution_count": 20,
     "metadata": {},
     "output_type": "execute_result"
    },
    {
     "data": {
      "image/png": "[encoded data removed]",
      "text/plain": [
       "<Figure size 432x288 with 1 Axes>"
      ]
     },
     "metadata": {
      "needs_background": "light"
     },
     "output_type": "display_data"
    }
   ],
   "source": [
    "# ich will den Chart noch verschönern, z.B. eine einheitliche Farbe geben, einen Titel und eine Achsenbeschriftung\n",
    "# dafür hat die plot-Funktion einige Parameter:\n",
    "\n",
    "df_1819.groupby('Club')['Marktwert'].sum().sort_values().plot(kind='barh', \n",
    "                                                                   x='Marktwert', \n",
    "                                                                   y='Team',\n",
    "                                                                   color='green',\n",
    "                                                                   title='Marktwerte der Super-League-Teams, 2018/2019 (in Millionen Franken)')"
   ]
  },
  {
   "cell_type": "code",
   "execution_count": 22,
   "metadata": {},
   "outputs": [
    {
     "data": {
      "text/plain": [
       "<matplotlib.axes._subplots.AxesSubplot at 0x11397bef0>"
      ]
     },
     "execution_count": 22,
     "metadata": {},
     "output_type": "execute_result"
    },
    {
     "data": {
      "image/png": "[encoded data removed]",
      "text/plain": [
       "<Figure size 432x288 with 1 Axes>"
      ]
     },
     "metadata": {
      "needs_background": "light"
     },
     "output_type": "display_data"
    }
   ],
   "source": [
    "# diesem chart setze ich denjenigen mit den Punkten gegenüber\n",
    "\n",
    "df_1819.groupby('Club')['Punkte'].sum().sort_values().plot(kind='barh', \n",
    "                                                                   x='Punkte', \n",
    "                                                                   y='Team',\n",
    "                                                                   color='red',\n",
    "                                                                   title='Punkte der Super-League-Teams, 2018/2019')"
   ]
  },
  {
   "cell_type": "markdown",
   "metadata": {},
   "source": [
    "#### Die Rangfolge der Teams in den beiden Grafiken unterscheidet sich: Thun z.B. rückt nach oben, hat also mehr Punkte geholt und belegt deshalb einen höheren Rang als es der Marktwert vermuten liess. Um dies noch besser zu sehen, könnte man ein Flussdiagramm zeichnen. Dafür bräuchte ich allerdings die Hilfe der Infografik/des Interaktiv-Teams "
   ]
  },
  {
   "cell_type": "code",
   "execution_count": null,
   "metadata": {},
   "outputs": [],
   "source": []
  },
  {
   "cell_type": "code",
   "execution_count": 23,
   "metadata": {},
   "outputs": [
    {
     "data": {
      "text/plain": [
       "<matplotlib.axes._subplots.AxesSubplot at 0x113a62be0>"
      ]
     },
     "execution_count": 23,
     "metadata": {},
     "output_type": "execute_result"
    },
    {
     "data": {
      "image/png": "[encoded data removed]",
      "text/plain": [
       "<Figure size 432x288 with 1 Axes>"
      ]
     },
     "metadata": {
      "needs_background": "light"
     },
     "output_type": "display_data"
    }
   ],
   "source": [
    "# um den Zusammenhang zwischen Marktwert und Punkten zu veranschaulichen, habe ich ja die Spalte 'Geld_pro_Punkt'\n",
    "# ich kreiere anhand dieser Spalte ebenfalls einen bar chart:\n",
    "\n",
    "df_1819.groupby('Club')['Geld_pro_Punkt'].sum().sort_values().plot(kind='barh', \n",
    "                                                                   x='Geld pro Punkt', \n",
    "                                                                   y='Club',\n",
    "                                                                   color='grey',\n",
    "                                                                   title='So viel investierten die Super-League-Teams für einen Punkt, 2018/2019')"
   ]
  },
  {
   "cell_type": "code",
   "execution_count": 24,
   "metadata": {},
   "outputs": [
    {
     "data": {
      "text/plain": [
       "<matplotlib.axes._subplots.AxesSubplot at 0x1138048d0>"
      ]
     },
     "execution_count": 24,
     "metadata": {},
     "output_type": "execute_result"
    },
    {
     "data": {
      "image/png": "[encoded data removed]",
      "text/plain": [
       "<Figure size 432x288 with 1 Axes>"
      ]
     },
     "metadata": {
      "needs_background": "light"
     },
     "output_type": "display_data"
    }
   ],
   "source": [
    "# ich könnte den chart aber auch umkehren\n",
    "# so stehen die Teams oben, die aus einem günstigen Team viel herausgeholt haben:\n",
    "\n",
    "df_1819.groupby('Club')['Geld_pro_Punkt'].sum().sort_values(ascending=False).plot(kind='barh',\n",
    "                                                                                  x='Geld pro Punkt',\n",
    "                                                                                  y='Club',\n",
    "                                                                                  color='grey',\n",
    "                                                                                  title='Diese Super-League-Teams machten am meisten aus ihren Möglichkeiten, 2018/2019')"
   ]
  },
  {
   "cell_type": "code",
   "execution_count": null,
   "metadata": {},
   "outputs": [],
   "source": []
  },
  {
   "cell_type": "markdown",
   "metadata": {},
   "source": [
    "## Alle Saisons"
   ]
  },
  {
   "cell_type": "code",
   "execution_count": 52,
   "metadata": {},
   "outputs": [
    {
     "data": {
      "text/html": [
       "<div>\n",
       "<style scoped>\n",
       "    .dataframe tbody tr th:only-of-type {\n",
       "        vertical-align: middle;\n",
       "    }\n",
       "\n",
       "    .dataframe tbody tr th {\n",
       "        vertical-align: top;\n",
       "    }\n",
       "\n",
       "    .dataframe thead th {\n",
       "        text-align: right;\n",
       "    }\n",
       "</style>\n",
       "<table border=\"1\" class=\"dataframe\">\n",
       "  <thead>\n",
       "    <tr style=\"text-align: right;\">\n",
       "      <th></th>\n",
       "      <th>Unnamed: 0</th>\n",
       "      <th>Jahr</th>\n",
       "      <th>Marktwert</th>\n",
       "      <th>Mannschaft</th>\n",
       "      <th>Punkte</th>\n",
       "    </tr>\n",
       "  </thead>\n",
       "  <tbody>\n",
       "    <tr>\n",
       "      <th>0</th>\n",
       "      <td>0</td>\n",
       "      <td>2005</td>\n",
       "      <td>34.43</td>\n",
       "      <td>FC Basel</td>\n",
       "      <td>78</td>\n",
       "    </tr>\n",
       "    <tr>\n",
       "      <th>1</th>\n",
       "      <td>1</td>\n",
       "      <td>2005</td>\n",
       "      <td>16.90</td>\n",
       "      <td>Grasshoppers</td>\n",
       "      <td>55</td>\n",
       "    </tr>\n",
       "    <tr>\n",
       "      <th>2</th>\n",
       "      <td>2</td>\n",
       "      <td>2005</td>\n",
       "      <td>13.88</td>\n",
       "      <td>BSC Young Boys</td>\n",
       "      <td>62</td>\n",
       "    </tr>\n",
       "    <tr>\n",
       "      <th>3</th>\n",
       "      <td>3</td>\n",
       "      <td>2005</td>\n",
       "      <td>11.38</td>\n",
       "      <td>FC Zürich</td>\n",
       "      <td>78</td>\n",
       "    </tr>\n",
       "    <tr>\n",
       "      <th>4</th>\n",
       "      <td>4</td>\n",
       "      <td>2005</td>\n",
       "      <td>11.18</td>\n",
       "      <td>FC Aarau</td>\n",
       "      <td>35</td>\n",
       "    </tr>\n",
       "  </tbody>\n",
       "</table>\n",
       "</div>"
      ],
      "text/plain": [
       "   Unnamed: 0  Jahr  Marktwert      Mannschaft  Punkte\n",
       "0           0  2005      34.43        FC Basel      78\n",
       "1           1  2005      16.90    Grasshoppers      55\n",
       "2           2  2005      13.88  BSC Young Boys      62\n",
       "3           3  2005      11.38       FC Zürich      78\n",
       "4           4  2005      11.18        FC Aarau      35"
      ]
     },
     "execution_count": 52,
     "metadata": {},
     "output_type": "execute_result"
    }
   ],
   "source": [
    "# ich lese die zweite csv-Datei ein, die ich vom Scraping abgespeichert habe und gebe sie als Dataframe aus:\n",
    "\n",
    "df_all = pd.read_csv('alle_saisons.csv')\n",
    "df_all.head(5)"
   ]
  },
  {
   "cell_type": "code",
   "execution_count": 53,
   "metadata": {},
   "outputs": [
    {
     "data": {
      "text/html": [
       "<div>\n",
       "<style scoped>\n",
       "    .dataframe tbody tr th:only-of-type {\n",
       "        vertical-align: middle;\n",
       "    }\n",
       "\n",
       "    .dataframe tbody tr th {\n",
       "        vertical-align: top;\n",
       "    }\n",
       "\n",
       "    .dataframe thead th {\n",
       "        text-align: right;\n",
       "    }\n",
       "</style>\n",
       "<table border=\"1\" class=\"dataframe\">\n",
       "  <thead>\n",
       "    <tr style=\"text-align: right;\">\n",
       "      <th></th>\n",
       "      <th>Unnamed: 0</th>\n",
       "      <th>Jahr</th>\n",
       "      <th>Marktwert</th>\n",
       "      <th>Mannschaft</th>\n",
       "      <th>Punkte</th>\n",
       "      <th>Geld_pro_Punkt</th>\n",
       "    </tr>\n",
       "  </thead>\n",
       "  <tbody>\n",
       "    <tr>\n",
       "      <th>0</th>\n",
       "      <td>0</td>\n",
       "      <td>2005</td>\n",
       "      <td>34.43</td>\n",
       "      <td>FC Basel</td>\n",
       "      <td>78</td>\n",
       "      <td>0.441410</td>\n",
       "    </tr>\n",
       "    <tr>\n",
       "      <th>1</th>\n",
       "      <td>1</td>\n",
       "      <td>2005</td>\n",
       "      <td>16.90</td>\n",
       "      <td>Grasshoppers</td>\n",
       "      <td>55</td>\n",
       "      <td>0.307273</td>\n",
       "    </tr>\n",
       "    <tr>\n",
       "      <th>2</th>\n",
       "      <td>2</td>\n",
       "      <td>2005</td>\n",
       "      <td>13.88</td>\n",
       "      <td>BSC Young Boys</td>\n",
       "      <td>62</td>\n",
       "      <td>0.223871</td>\n",
       "    </tr>\n",
       "    <tr>\n",
       "      <th>3</th>\n",
       "      <td>3</td>\n",
       "      <td>2005</td>\n",
       "      <td>11.38</td>\n",
       "      <td>FC Zürich</td>\n",
       "      <td>78</td>\n",
       "      <td>0.145897</td>\n",
       "    </tr>\n",
       "    <tr>\n",
       "      <th>4</th>\n",
       "      <td>4</td>\n",
       "      <td>2005</td>\n",
       "      <td>11.18</td>\n",
       "      <td>FC Aarau</td>\n",
       "      <td>35</td>\n",
       "      <td>0.319429</td>\n",
       "    </tr>\n",
       "  </tbody>\n",
       "</table>\n",
       "</div>"
      ],
      "text/plain": [
       "   Unnamed: 0  Jahr  Marktwert      Mannschaft  Punkte  Geld_pro_Punkt\n",
       "0           0  2005      34.43        FC Basel      78        0.441410\n",
       "1           1  2005      16.90    Grasshoppers      55        0.307273\n",
       "2           2  2005      13.88  BSC Young Boys      62        0.223871\n",
       "3           3  2005      11.38       FC Zürich      78        0.145897\n",
       "4           4  2005      11.18        FC Aarau      35        0.319429"
      ]
     },
     "execution_count": 53,
     "metadata": {},
     "output_type": "execute_result"
    }
   ],
   "source": [
    "# ich merke gerade, dass mir bei dieser Tabelle die Spalte 'Geld_pro_Punkt' fehlt und ergänze das:\n",
    "\n",
    "df_all['Geld_pro_Punkt'] =  df_all['Marktwert'] / df_all['Punkte']\n",
    "df_all.head(5)"
   ]
  },
  {
   "cell_type": "code",
   "execution_count": 54,
   "metadata": {},
   "outputs": [],
   "source": [
    "# ich speichere das neue Dataframe der Vollständigkeit halber noch als CSV-Datei ab\n",
    "\n",
    "df_all.to_csv('alle_saisons_neu.csv')"
   ]
  },
  {
   "cell_type": "markdown",
   "metadata": {},
   "source": [
    "### Marktwerte"
   ]
  },
  {
   "cell_type": "code",
   "execution_count": 55,
   "metadata": {},
   "outputs": [
    {
     "data": {
      "text/plain": [
       "Jahr\n",
       "2005    116.40\n",
       "2006    137.28\n",
       "2007    132.74\n",
       "2008    145.02\n",
       "2009    183.21\n",
       "2010    182.78\n",
       "2011    195.99\n",
       "2012    190.58\n",
       "2013    215.43\n",
       "2014    193.02\n",
       "2015    263.77\n",
       "2016    257.75\n",
       "2017    243.97\n",
       "Name: Marktwert, dtype: float64"
      ]
     },
     "execution_count": 55,
     "metadata": {},
     "output_type": "execute_result"
    }
   ],
   "source": [
    "# ich zeige die Entwicklung des Gesamtmarktwerts der Liga über alle Jahre auf\n",
    "# dazu summiere ich die Markwerte pro Jahr auf und sortiere sie:\n",
    "\n",
    "df_all.groupby('Jahr')['Marktwert'].sum().sort_index()"
   ]
  },
  {
   "cell_type": "code",
   "execution_count": 56,
   "metadata": {},
   "outputs": [
    {
     "data": {
      "text/plain": [
       "<matplotlib.axes._subplots.AxesSubplot at 0x114aeb9b0>"
      ]
     },
     "execution_count": 56,
     "metadata": {},
     "output_type": "execute_result"
    },
    {
     "data": {
      "image/png": "[encoded data removed]",
      "text/plain": [
       "<Figure size 432x288 with 1 Axes>"
      ]
     },
     "metadata": {
      "needs_background": "light"
     },
     "output_type": "display_data"
    }
   ],
   "source": [
    "# ich erstelle daraus einen line-chart:\n",
    "\n",
    "df_all.groupby('Jahr')['Marktwert'].sum().sort_index().plot()"
   ]
  },
  {
   "cell_type": "code",
   "execution_count": 51,
   "metadata": {},
   "outputs": [
    {
     "data": {
      "text/plain": [
       "<matplotlib.axes._subplots.AxesSubplot at 0x114944550>"
      ]
     },
     "execution_count": 51,
     "metadata": {},
     "output_type": "execute_result"
    },
    {
     "data": {
      "image/png": "[encoded data removed]",
      "text/plain": [
       "<Figure size 792x576 with 1 Axes>"
      ]
     },
     "metadata": {
      "needs_background": "light"
     },
     "output_type": "display_data"
    }
   ],
   "source": [
    "# es ist klar ersichtlich, dass der Gesamtmarktwert der Liga über die Jahre fast kontinuierlich zugenommen hat\n",
    "# auch diesen chart kann ich noch verschönern\n",
    "\n",
    "df_all.groupby('Jahr')['Marktwert'].sum().sort_index().plot(x='Jahr',\n",
    "                                                            y='Marktwert',\n",
    "                                                            color='green',\n",
    "                                                            figsize=(11,8),\n",
    "                                                            title='Gesamtmarktwert aller Super-League-Teams, 2005-2017 (in Millionen Franken)')"
   ]
  },
  {
   "cell_type": "code",
   "execution_count": 59,
   "metadata": {},
   "outputs": [
    {
     "data": {
      "text/plain": [
       "Jahr\n",
       "2005    2.187095\n",
       "2006    2.818719\n",
       "2007    2.776899\n",
       "2008    2.895509\n",
       "2009    3.865285\n",
       "2010    3.673152\n",
       "2011         inf\n",
       "2012    3.934850\n",
       "2013    4.163633\n",
       "2014    3.830089\n",
       "2015    5.190032\n",
       "2016    4.860527\n",
       "2017    4.913758\n",
       "Name: Geld_pro_Punkt, dtype: float64"
      ]
     },
     "execution_count": 59,
     "metadata": {},
     "output_type": "execute_result"
    }
   ],
   "source": [
    "# dementsprechend sollten sich auch die Investitionen der Teams pro Punkt entwickelt haben\n",
    "\n",
    "df_all.groupby('Jahr')['Geld_pro_Punkt'].sum().sort_index()"
   ]
  },
  {
   "cell_type": "code",
   "execution_count": 68,
   "metadata": {},
   "outputs": [
    {
     "data": {
      "text/plain": [
       "Jahr\n",
       "2005    2.187095\n",
       "2006    2.818719\n",
       "2007    2.776899\n",
       "2008    2.895509\n",
       "2009    3.865285\n",
       "2010    3.673152\n",
       "2011    4.594014\n",
       "2012    3.934850\n",
       "2013    4.163633\n",
       "2014    3.830089\n",
       "2015    5.190032\n",
       "2016    4.860527\n",
       "2017    4.913758\n",
       "Name: Geld_pro_Punkt, dtype: float64"
      ]
     },
     "execution_count": 68,
     "metadata": {},
     "output_type": "execute_result"
    }
   ],
   "source": [
    "# hier gibt es ein Problem: für das Jahr 2011 gibt es keine Zahl, sogar eine infinite number (inf) an\n",
    "# der Grund: Neuchatel Xamax musste in jenem Jahr zwangsabsteigen und erhielt keine Punkte\n",
    "\n",
    "# ich ersetze in der betreffenden Zeile (63) deshalb 'inf' mit 0 (Null) > denn 0 durch etwas gibt ja Null\n",
    "\n",
    "df_all.at[63, 'Geld_pro_Punkt'] = 0\n",
    "df_all.groupby('Jahr')['Geld_pro_Punkt'].sum().sort_index()"
   ]
  },
  {
   "cell_type": "code",
   "execution_count": 69,
   "metadata": {},
   "outputs": [
    {
     "data": {
      "text/plain": [
       "<matplotlib.axes._subplots.AxesSubplot at 0x114f50320>"
      ]
     },
     "execution_count": 69,
     "metadata": {},
     "output_type": "execute_result"
    },
    {
     "data": {
      "image/png": "[encoded data removed]",
      "text/plain": [
       "<Figure size 432x288 with 1 Axes>"
      ]
     },
     "metadata": {
      "needs_background": "light"
     },
     "output_type": "display_data"
    }
   ],
   "source": [
    "df_all.groupby('Jahr')['Geld_pro_Punkt'].sum().sort_index().plot()"
   ]
  },
  {
   "cell_type": "code",
   "execution_count": 71,
   "metadata": {},
   "outputs": [
    {
     "data": {
      "text/plain": [
       "<matplotlib.axes._subplots.AxesSubplot at 0x115080358>"
      ]
     },
     "execution_count": 71,
     "metadata": {},
     "output_type": "execute_result"
    },
    {
     "data": {
      "image/png": "[encoded data removed]",
      "text/plain": [
       "<Figure size 432x288 with 1 Axes>"
      ]
     },
     "metadata": {
      "needs_background": "light"
     },
     "output_type": "display_data"
    }
   ],
   "source": [
    "# man könnte das auch als Säulendiagramm darstellen:\n",
    "\n",
    "df_all.groupby('Jahr')['Geld_pro_Punkt'].sum().sort_index().plot(kind='bar',\n",
    "                                                                 x='Jahr',\n",
    "                                                                 y='Geld pro Punkt',\n",
    "                                                                 color='green',\n",
    "                                                                 title='Ausgaben der Super-League Teams pro Punkt, 2005-2017 (in Millionen Franken)')"
   ]
  },
  {
   "cell_type": "markdown",
   "metadata": {},
   "source": [
    "#### Auch in der Schweiz fliesst also immer mehr Geld in den Fussball. Ich will aber auch die These beweisen, dass erfolgreicher ist, wer mehr Geld investiert und sich ein teures Team leistet."
   ]
  },
  {
   "cell_type": "markdown",
   "metadata": {},
   "source": [
    "### Zusammenhang Geld und Erfolg"
   ]
  },
  {
   "cell_type": "code",
   "execution_count": 88,
   "metadata": {},
   "outputs": [
    {
     "data": {
      "text/plain": [
       "<matplotlib.axes._subplots.AxesSubplot at 0x1156248d0>"
      ]
     },
     "execution_count": 88,
     "metadata": {},
     "output_type": "execute_result"
    },
    {
     "data": {
      "image/png": "[encoded data removed]",
      "text/plain": [
       "<Figure size 432x288 with 1 Axes>"
      ]
     },
     "metadata": {
      "needs_background": "light"
     },
     "output_type": "display_data"
    }
   ],
   "source": [
    "# dazu erstelle ich einen scatterplot-chart mit den Spalten 'Marktwert' und 'Punkte' als Achsen:\n",
    "\n",
    "df_all.plot(kind='scatter', x='Marktwert', y='Punkte')"
   ]
  },
  {
   "cell_type": "code",
   "execution_count": 91,
   "metadata": {},
   "outputs": [
    {
     "name": "stderr",
     "output_type": "stream",
     "text": [
      "/Users/yannick/.virtualenvs/virtuelle_umgebung/lib/python3.7/site-packages/scipy/stats/stats.py:1713: FutureWarning: Using a non-tuple sequence for multidimensional indexing is deprecated; use `arr[tuple(seq)]` instead of `arr[seq]`. In the future this will be interpreted as an array index, `arr[np.array(seq)]`, which will result either in an error or a different result.\n",
      "  return np.add.reduce(sorted[indexer] * weights, axis=axis) / sumval\n"
     ]
    },
    {
     "data": {
      "image/png": "[encoded data removed]",
      "text/plain": [
       "<Figure size 360x360 with 1 Axes>"
      ]
     },
     "metadata": {
      "needs_background": "light"
     },
     "output_type": "display_data"
    }
   ],
   "source": [
    "# man sieht hier schon eine Tendenz\n",
    "# aber wenn ich es genau machen will, muss ich die Regression anzeigen:\n",
    "\n",
    "import seaborn as sns\n",
    "sns.lmplot(x=\"Marktwert\", y=\"Punkte\", data=df_all);"
   ]
  },
  {
   "cell_type": "markdown",
   "metadata": {},
   "source": [
    "#### Hier zeigt sich eine klare Steigung. Das heisst: teurere Mannschaften holen mehr Punkte > These belegt\n",
    "\n",
    "#### Wieviel lassen sich die Teams einen Punkt eigentlich \"kosten\"?"
   ]
  },
  {
   "cell_type": "code",
   "execution_count": 87,
   "metadata": {},
   "outputs": [
    {
     "data": {
      "text/plain": [
       "<matplotlib.axes._subplots.AxesSubplot at 0x1154ea780>"
      ]
     },
     "execution_count": 87,
     "metadata": {},
     "output_type": "execute_result"
    },
    {
     "data": {
      "image/png": "[encoded data removed]",
      "text/plain": [
       "<Figure size 432x288 with 1 Axes>"
      ]
     },
     "metadata": {
      "needs_background": "light"
     },
     "output_type": "display_data"
    }
   ],
   "source": [
    "# ich will darstellen, wie die Werte in der Spalte 'Geld_pro_Punkt' verteilt sind\n",
    "# dazu erstelle ich ein Histogramm:\n",
    "\n",
    "df_all['Geld_pro_Punkt'].hist(bins=50)"
   ]
  },
  {
   "cell_type": "code",
   "execution_count": 74,
   "metadata": {},
   "outputs": [
    {
     "data": {
      "text/plain": [
       "Mannschaft\n",
       "AC Bellinzona      1.022984\n",
       "BSC Young Boys     5.328444\n",
       "FC Aarau           2.146433\n",
       "FC Basel           7.308914\n",
       "FC Lugano          0.921181\n",
       "FC Luzern          3.774312\n",
       "FC Schaffhausen    0.456242\n",
       "FC Sion            7.080993\n",
       "FC St. Gallen      3.904544\n",
       "FC Thun            2.625851\n",
       "FC Vaduz           1.162987\n",
       "FC Zürich          4.752509\n",
       "Grasshoppers       5.197679\n",
       "Lausanne-Sport     1.984802\n",
       "Neuchâtel Xamax    1.347746\n",
       "Servette FC        0.608878\n",
       "Yverdon-Sport      0.079062\n",
       "Name: Geld_pro_Punkt, dtype: float64"
      ]
     },
     "execution_count": 74,
     "metadata": {},
     "output_type": "execute_result"
    }
   ],
   "source": [
    "# mit Abstand am häufigsten haben die Teams also etwa 300'000 Franken pro Punkt investiert\n",
    "\n",
    "# ich möchte aber vor allem wissen, wieviel die Teams im Schnitt über alle Jahre pro Punkt ausgegeben haben\n",
    "\n",
    "df_all.groupby('Mannschaft')['Geld_pro_Punkt'].sum()"
   ]
  },
  {
   "cell_type": "code",
   "execution_count": 78,
   "metadata": {},
   "outputs": [
    {
     "data": {
      "text/plain": [
       "Mannschaft\n",
       "FC Basel           7.308914\n",
       "FC Sion            7.080993\n",
       "BSC Young Boys     5.328444\n",
       "Grasshoppers       5.197679\n",
       "FC Zürich          4.752509\n",
       "FC St. Gallen      3.904544\n",
       "FC Luzern          3.774312\n",
       "FC Thun            2.625851\n",
       "FC Aarau           2.146433\n",
       "Lausanne-Sport     1.984802\n",
       "Neuchâtel Xamax    1.347746\n",
       "FC Vaduz           1.162987\n",
       "AC Bellinzona      1.022984\n",
       "FC Lugano          0.921181\n",
       "Servette FC        0.608878\n",
       "FC Schaffhausen    0.456242\n",
       "Yverdon-Sport      0.079062\n",
       "Name: Geld_pro_Punkt, dtype: float64"
      ]
     },
     "execution_count": 78,
     "metadata": {},
     "output_type": "execute_result"
    }
   ],
   "source": [
    "# ich ordne die Auflistung nach der Spalte 'Geld_pro_Punkt':\n",
    "\n",
    "df_all.groupby('Mannschaft')['Geld_pro_Punkt'].sum().sort_values(ascending=False)"
   ]
  },
  {
   "cell_type": "code",
   "execution_count": 85,
   "metadata": {},
   "outputs": [
    {
     "data": {
      "text/plain": [
       "<matplotlib.axes._subplots.AxesSubplot at 0x115195a58>"
      ]
     },
     "execution_count": 85,
     "metadata": {},
     "output_type": "execute_result"
    },
    {
     "data": {
      "image/png": "[encoded data removed]",
      "text/plain": [
       "<Figure size 432x288 with 1 Axes>"
      ]
     },
     "metadata": {
      "needs_background": "light"
     },
     "output_type": "display_data"
    }
   ],
   "source": [
    "# ich erstelle daraus einen bar-chart:\n",
    "\n",
    "df_all.groupby('Mannschaft')['Geld_pro_Punkt'].sum().sort_values().plot(kind='barh')"
   ]
  },
  {
   "cell_type": "code",
   "execution_count": 83,
   "metadata": {},
   "outputs": [
    {
     "name": "stdout",
     "output_type": "stream",
     "text": [
      "Mannschaft\n",
      "FC Basel           0.562224\n",
      "FC Sion            0.544692\n",
      "BSC Young Boys     0.409880\n",
      "Grasshoppers       0.399821\n",
      "FC Zürich          0.365578\n",
      "FC St. Gallen      0.300350\n",
      "FC Luzern          0.290332\n",
      "FC Thun            0.201989\n",
      "FC Aarau           0.165110\n",
      "Lausanne-Sport     0.152677\n",
      "Neuchâtel Xamax    0.103673\n",
      "FC Vaduz           0.089461\n",
      "AC Bellinzona      0.078691\n",
      "FC Lugano          0.070860\n",
      "Servette FC        0.046837\n",
      "FC Schaffhausen    0.035096\n",
      "Yverdon-Sport      0.006082\n",
      "Name: Geld_pro_Punkt, dtype: float64\n"
     ]
    }
   ],
   "source": [
    "# Achtung! Manche Teams haben alle 13 Saisons in der Super League gespielt (Basel, YB und GC), andere nur eine\n",
    "# ich muss deshalb den Durchschnittswert pro Saison berechnen\n",
    "# zuerst rechne ich alle Werte durch 13 > damit erhalte ich zumindest von drei Teams die richtigen Werte\n",
    "\n",
    "df_geld = df_all.groupby('Mannschaft')['Geld_pro_Punkt'].sum().sort_values(ascending=False)\n",
    "df = df_geld/13\n",
    "print(df)"
   ]
  },
  {
   "cell_type": "code",
   "execution_count": 94,
   "metadata": {},
   "outputs": [
    {
     "data": {
      "text/html": [
       "<div>\n",
       "<style scoped>\n",
       "    .dataframe tbody tr th:only-of-type {\n",
       "        vertical-align: middle;\n",
       "    }\n",
       "\n",
       "    .dataframe tbody tr th {\n",
       "        vertical-align: top;\n",
       "    }\n",
       "\n",
       "    .dataframe thead th {\n",
       "        text-align: right;\n",
       "    }\n",
       "</style>\n",
       "<table border=\"1\" class=\"dataframe\">\n",
       "  <thead>\n",
       "    <tr style=\"text-align: right;\">\n",
       "      <th></th>\n",
       "      <th>Mannschaft</th>\n",
       "      <th>Geld total</th>\n",
       "      <th>Geld pro Punkt</th>\n",
       "    </tr>\n",
       "  </thead>\n",
       "  <tbody>\n",
       "    <tr>\n",
       "      <th>0</th>\n",
       "      <td>Neuchâtel Xamax</td>\n",
       "      <td>1.347746</td>\n",
       "      <td>0.224624</td>\n",
       "    </tr>\n",
       "    <tr>\n",
       "      <th>1</th>\n",
       "      <td>FC Thun</td>\n",
       "      <td>2.625851</td>\n",
       "      <td>0.238714</td>\n",
       "    </tr>\n",
       "    <tr>\n",
       "      <th>2</th>\n",
       "      <td>FC Lugano</td>\n",
       "      <td>0.921181</td>\n",
       "      <td>0.307060</td>\n",
       "    </tr>\n",
       "    <tr>\n",
       "      <th>3</th>\n",
       "      <td>FC Luzern</td>\n",
       "      <td>3.774312</td>\n",
       "      <td>0.314526</td>\n",
       "    </tr>\n",
       "    <tr>\n",
       "      <th>4</th>\n",
       "      <td>FC St. Gallen</td>\n",
       "      <td>3.904544</td>\n",
       "      <td>0.354959</td>\n",
       "    </tr>\n",
       "    <tr>\n",
       "      <th>5</th>\n",
       "      <td>FC Zürich</td>\n",
       "      <td>4.752509</td>\n",
       "      <td>0.396042</td>\n",
       "    </tr>\n",
       "    <tr>\n",
       "      <th>6</th>\n",
       "      <td>Grasshoppers</td>\n",
       "      <td>5.197679</td>\n",
       "      <td>0.399821</td>\n",
       "    </tr>\n",
       "    <tr>\n",
       "      <th>7</th>\n",
       "      <td>BSC Young Boys</td>\n",
       "      <td>5.328444</td>\n",
       "      <td>0.409880</td>\n",
       "    </tr>\n",
       "    <tr>\n",
       "      <th>8</th>\n",
       "      <td>FC Basel</td>\n",
       "      <td>7.308914</td>\n",
       "      <td>0.562224</td>\n",
       "    </tr>\n",
       "    <tr>\n",
       "      <th>9</th>\n",
       "      <td>FC Sion</td>\n",
       "      <td>7.080993</td>\n",
       "      <td>0.590083</td>\n",
       "    </tr>\n",
       "  </tbody>\n",
       "</table>\n",
       "</div>"
      ],
      "text/plain": [
       "        Mannschaft  Geld total  Geld pro Punkt\n",
       "0  Neuchâtel Xamax    1.347746        0.224624\n",
       "1          FC Thun    2.625851        0.238714\n",
       "2        FC Lugano    0.921181        0.307060\n",
       "3        FC Luzern    3.774312        0.314526\n",
       "4    FC St. Gallen    3.904544        0.354959\n",
       "5        FC Zürich    4.752509        0.396042\n",
       "6     Grasshoppers    5.197679        0.399821\n",
       "7   BSC Young Boys    5.328444        0.409880\n",
       "8         FC Basel    7.308914        0.562224\n",
       "9          FC Sion    7.080993        0.590083"
      ]
     },
     "execution_count": 94,
     "metadata": {},
     "output_type": "execute_result"
    }
   ],
   "source": [
    "# ich habe aber nicht herausgefunden, wie ich in einem Schritt für jedes Team einen eigenen Durchschnittswert berechnen kann\n",
    "# deshalb habe ich die Berechnung schnell in Google Sheets von Hand vorgenommen und als CSV abgespeichert\n",
    "\n",
    "df_effizienz = pd.read_csv('geld_pro_punkt.csv')\n",
    "df_effizienz"
   ]
  },
  {
   "cell_type": "code",
   "execution_count": 96,
   "metadata": {},
   "outputs": [
    {
     "data": {
      "text/plain": [
       "<matplotlib.axes._subplots.AxesSubplot at 0x1179bcc18>"
      ]
     },
     "execution_count": 96,
     "metadata": {},
     "output_type": "execute_result"
    },
    {
     "data": {
      "image/png": "[encoded data removed]",
      "text/plain": [
       "<Figure size 432x288 with 1 Axes>"
      ]
     },
     "metadata": {
      "needs_background": "light"
     },
     "output_type": "display_data"
    }
   ],
   "source": [
    "# ich erstelle aus dem neuen Dataframe einen bar-chart:\n",
    "\n",
    "df_effizienz.groupby('Mannschaft')['Geld pro Punkt'].sum().sort_values(ascending=False).plot(kind='barh',\n",
    "                                                                                  x='Geld pro Punkt',\n",
    "                                                                                  y='Club',\n",
    "                                                                                  color='grey',\n",
    "                                                                                  title='Diese Super-League-Teams machten am meisten aus ihren Möglichkeiten, 2005-2017')"
   ]
  },
  {
   "cell_type": "markdown",
   "metadata": {},
   "source": [
    "#### Das Resultat: Xamax und Thun haben in den letzten 13 Jahren im Schnitt am wenigsten Geld pro Punkt investiert, Basel und Sion am meisten.\n",
    "\n",
    "#### Wie zeigt sich das bei der Rangveränderung? Damit meine ich den Unterschied zwischen dem erwartbaren Rang (gemäss Marktwert) und dem tatsächlich erzielten Rang (Tabelle Ende Saison)"
   ]
  },
  {
   "cell_type": "code",
   "execution_count": 4,
   "metadata": {},
   "outputs": [
    {
     "data": {
      "text/html": [
       "<div>\n",
       "<style scoped>\n",
       "    .dataframe tbody tr th:only-of-type {\n",
       "        vertical-align: middle;\n",
       "    }\n",
       "\n",
       "    .dataframe tbody tr th {\n",
       "        vertical-align: top;\n",
       "    }\n",
       "\n",
       "    .dataframe thead th {\n",
       "        text-align: right;\n",
       "    }\n",
       "</style>\n",
       "<table border=\"1\" class=\"dataframe\">\n",
       "  <thead>\n",
       "    <tr style=\"text-align: right;\">\n",
       "      <th></th>\n",
       "      <th>Mannschaft</th>\n",
       "      <th>Saisons 05-17</th>\n",
       "      <th>Rangsumme</th>\n",
       "      <th>Anzahl überd.</th>\n",
       "      <th>Anzahl erwartet</th>\n",
       "      <th>Anzahl unterd.</th>\n",
       "    </tr>\n",
       "  </thead>\n",
       "  <tbody>\n",
       "    <tr>\n",
       "      <th>0</th>\n",
       "      <td>AC Bellinzona</td>\n",
       "      <td>3</td>\n",
       "      <td>0</td>\n",
       "      <td>1</td>\n",
       "      <td>1</td>\n",
       "      <td>1</td>\n",
       "    </tr>\n",
       "    <tr>\n",
       "      <th>1</th>\n",
       "      <td>BSC Young Boys</td>\n",
       "      <td>13</td>\n",
       "      <td>-1</td>\n",
       "      <td>4</td>\n",
       "      <td>5</td>\n",
       "      <td>4</td>\n",
       "    </tr>\n",
       "    <tr>\n",
       "      <th>2</th>\n",
       "      <td>FC Aarau</td>\n",
       "      <td>7</td>\n",
       "      <td>2</td>\n",
       "      <td>2</td>\n",
       "      <td>3</td>\n",
       "      <td>2</td>\n",
       "    </tr>\n",
       "    <tr>\n",
       "      <th>3</th>\n",
       "      <td>FC Basel</td>\n",
       "      <td>13</td>\n",
       "      <td>-4</td>\n",
       "      <td>0</td>\n",
       "      <td>9</td>\n",
       "      <td>4</td>\n",
       "    </tr>\n",
       "    <tr>\n",
       "      <th>4</th>\n",
       "      <td>FC Lugano</td>\n",
       "      <td>3</td>\n",
       "      <td>5</td>\n",
       "      <td>2</td>\n",
       "      <td>1</td>\n",
       "      <td>0</td>\n",
       "    </tr>\n",
       "    <tr>\n",
       "      <th>5</th>\n",
       "      <td>FC Luzern</td>\n",
       "      <td>12</td>\n",
       "      <td>13</td>\n",
       "      <td>7</td>\n",
       "      <td>3</td>\n",
       "      <td>2</td>\n",
       "    </tr>\n",
       "    <tr>\n",
       "      <th>6</th>\n",
       "      <td>FC Schaffhausen</td>\n",
       "      <td>2</td>\n",
       "      <td>0</td>\n",
       "      <td>0</td>\n",
       "      <td>2</td>\n",
       "      <td>0</td>\n",
       "    </tr>\n",
       "    <tr>\n",
       "      <th>7</th>\n",
       "      <td>FC Sion</td>\n",
       "      <td>12</td>\n",
       "      <td>-28</td>\n",
       "      <td>1</td>\n",
       "      <td>1</td>\n",
       "      <td>10</td>\n",
       "    </tr>\n",
       "    <tr>\n",
       "      <th>8</th>\n",
       "      <td>FC St. Gallen</td>\n",
       "      <td>11</td>\n",
       "      <td>-1</td>\n",
       "      <td>5</td>\n",
       "      <td>2</td>\n",
       "      <td>4</td>\n",
       "    </tr>\n",
       "    <tr>\n",
       "      <th>9</th>\n",
       "      <td>FC Thun</td>\n",
       "      <td>11</td>\n",
       "      <td>30</td>\n",
       "      <td>8</td>\n",
       "      <td>1</td>\n",
       "      <td>1</td>\n",
       "    </tr>\n",
       "    <tr>\n",
       "      <th>10</th>\n",
       "      <td>FC Vaduz</td>\n",
       "      <td>4</td>\n",
       "      <td>1</td>\n",
       "      <td>1</td>\n",
       "      <td>3</td>\n",
       "      <td>0</td>\n",
       "    </tr>\n",
       "    <tr>\n",
       "      <th>11</th>\n",
       "      <td>FC Zürich</td>\n",
       "      <td>12</td>\n",
       "      <td>3</td>\n",
       "      <td>7</td>\n",
       "      <td>2</td>\n",
       "      <td>3</td>\n",
       "    </tr>\n",
       "    <tr>\n",
       "      <th>12</th>\n",
       "      <td>Grasshoppers</td>\n",
       "      <td>13</td>\n",
       "      <td>-11</td>\n",
       "      <td>5</td>\n",
       "      <td>0</td>\n",
       "      <td>8</td>\n",
       "    </tr>\n",
       "    <tr>\n",
       "      <th>13</th>\n",
       "      <td>Lausanne-Sport</td>\n",
       "      <td>5</td>\n",
       "      <td>-5</td>\n",
       "      <td>2</td>\n",
       "      <td>1</td>\n",
       "      <td>2</td>\n",
       "    </tr>\n",
       "    <tr>\n",
       "      <th>14</th>\n",
       "      <td>Neuchâtel Xamax</td>\n",
       "      <td>6</td>\n",
       "      <td>-6</td>\n",
       "      <td>1</td>\n",
       "      <td>3</td>\n",
       "      <td>2</td>\n",
       "    </tr>\n",
       "    <tr>\n",
       "      <th>15</th>\n",
       "      <td>Servette FC</td>\n",
       "      <td>2</td>\n",
       "      <td>3</td>\n",
       "      <td>1</td>\n",
       "      <td>0</td>\n",
       "      <td>1</td>\n",
       "    </tr>\n",
       "    <tr>\n",
       "      <th>16</th>\n",
       "      <td>Yverdon-Sport</td>\n",
       "      <td>1</td>\n",
       "      <td>0</td>\n",
       "      <td>0</td>\n",
       "      <td>1</td>\n",
       "      <td>0</td>\n",
       "    </tr>\n",
       "  </tbody>\n",
       "</table>\n",
       "</div>"
      ],
      "text/plain": [
       "         Mannschaft  Saisons 05-17  Rangsumme  Anzahl überd.  Anzahl erwartet  \\\n",
       "0     AC Bellinzona              3          0              1                1   \n",
       "1    BSC Young Boys             13         -1              4                5   \n",
       "2          FC Aarau              7          2              2                3   \n",
       "3          FC Basel             13         -4              0                9   \n",
       "4         FC Lugano              3          5              2                1   \n",
       "5         FC Luzern             12         13              7                3   \n",
       "6   FC Schaffhausen              2          0              0                2   \n",
       "7           FC Sion             12        -28              1                1   \n",
       "8     FC St. Gallen             11         -1              5                2   \n",
       "9           FC Thun             11         30              8                1   \n",
       "10         FC Vaduz              4          1              1                3   \n",
       "11        FC Zürich             12          3              7                2   \n",
       "12     Grasshoppers             13        -11              5                0   \n",
       "13   Lausanne-Sport              5         -5              2                1   \n",
       "14  Neuchâtel Xamax              6         -6              1                3   \n",
       "15      Servette FC              2          3              1                0   \n",
       "16    Yverdon-Sport              1          0              0                1   \n",
       "\n",
       "    Anzahl unterd.  \n",
       "0                1  \n",
       "1                4  \n",
       "2                2  \n",
       "3                4  \n",
       "4                0  \n",
       "5                2  \n",
       "6                0  \n",
       "7               10  \n",
       "8                4  \n",
       "9                1  \n",
       "10               0  \n",
       "11               3  \n",
       "12               8  \n",
       "13               2  \n",
       "14               2  \n",
       "15               1  \n",
       "16               0  "
      ]
     },
     "execution_count": 4,
     "metadata": {},
     "output_type": "execute_result"
    }
   ],
   "source": [
    "# die erste Tabelle auf Seite trasnfermarkt zeigt leider keinen Rang (gemäss Marktwert), den ich mit dem Rang in der zweiten Tabelle vergleichen könnte\n",
    "# deshalb habe ich die Rangveränderung mit Google Sheets per Hand ausgerechnet und in einem csv-File abgespeichert\n",
    "\n",
    "df_performer = pd.read_csv('under_overperformer.csv')\n",
    "df_performer"
   ]
  },
  {
   "cell_type": "code",
   "execution_count": 15,
   "metadata": {},
   "outputs": [
    {
     "data": {
      "text/plain": [
       "<matplotlib.axes._subplots.AxesSubplot at 0x119249470>"
      ]
     },
     "execution_count": 15,
     "metadata": {},
     "output_type": "execute_result"
    },
    {
     "data": {
      "image/png": "[encoded data removed]",
      "text/plain": [
       "<Figure size 720x576 with 1 Axes>"
      ]
     },
     "metadata": {
      "needs_background": "light"
     },
     "output_type": "display_data"
    }
   ],
   "source": [
    "# ich könnte daraus einen gewöhnlichen bar-chart machen:\n",
    "\n",
    "df_performer.groupby('Mannschaft')['Rangsumme'].sum().sort_values().plot(kind='barh',\n",
    "                                                                                  x='Rangsumme',\n",
    "                                                                                  y='Club',\n",
    "                                                                                  color='grey',\n",
    "                                                                                  figsize=(10,8),\n",
    "                                                                                  title='Die Over- und Underperformer der Liga, 2005-2017')"
   ]
  },
  {
   "cell_type": "code",
   "execution_count": 8,
   "metadata": {},
   "outputs": [
    {
     "data": {
      "text/plain": [
       "<matplotlib.legend.Legend at 0x118753cf8>"
      ]
     },
     "execution_count": 8,
     "metadata": {},
     "output_type": "execute_result"
    },
    {
     "data": {
      "image/png": "[encoded data removed]",
      "text/plain": [
       "<Figure size 720x360 with 1 Axes>"
      ]
     },
     "metadata": {
      "needs_background": "light"
     },
     "output_type": "display_data"
    }
   ],
   "source": [
    "# ich möchte aber lieber einen stacked bar chart (gestapelte Balken machen), um die Verteilung zu sehen\n",
    "# wie eine kurze Recherche auf stackoverflow etc. zeigt, gibt es dafür verschiedene Wege, z.B. so:\n",
    "\n",
    "a = [4,5,1]\n",
    "b = [5,2,1]\n",
    "c = [4,4,10]\n",
    "df = pd.DataFrame({'Erwartungen übertroffen' : a,'Erwartungen erfüllt' : b, 'Erwartungen nicht erfüllt' : c})\n",
    "ax = df.plot.barh(stacked=True);\n",
    "\n",
    "ax.figure.set_size_inches(10,5)\n",
    "ax.set_title(\"Die Over- und Underperformer der Liga\")\n",
    "ax.set_ylabel('Teams')\n",
    "ax.set_xlabel('Anzahl')\n",
    "ax.legend(loc='upper right')"
   ]
  },
  {
   "cell_type": "code",
   "execution_count": 12,
   "metadata": {},
   "outputs": [
    {
     "data": {
      "text/plain": [
       "<matplotlib.legend.Legend at 0x118dccda0>"
      ]
     },
     "execution_count": 12,
     "metadata": {},
     "output_type": "execute_result"
    },
    {
     "data": {
      "image/png": "[encoded data removed]",
      "text/plain": [
       "<Figure size 720x360 with 1 Axes>"
      ]
     },
     "metadata": {
      "needs_background": "light"
     },
     "output_type": "display_data"
    }
   ],
   "source": [
    "# ich will die Werte aber nicht selbst definieren, sondern mein Dataframe 'df_performer' verwenden\n",
    "\n",
    "ax = df_performer.plot.barh(stacked=True);\n",
    "\n",
    "ax.figure.set_size_inches(10,5)\n",
    "ax.set_title(\"Die Over- und Underperformer der Liga\")\n",
    "ax.set_ylabel('Teams')\n",
    "ax.set_xlabel('Anzahl')\n",
    "ax.legend(loc='upper right')"
   ]
  },
  {
   "cell_type": "code",
   "execution_count": 16,
   "metadata": {},
   "outputs": [
    {
     "data": {
      "text/html": [
       "<div>\n",
       "<style scoped>\n",
       "    .dataframe tbody tr th:only-of-type {\n",
       "        vertical-align: middle;\n",
       "    }\n",
       "\n",
       "    .dataframe tbody tr th {\n",
       "        vertical-align: top;\n",
       "    }\n",
       "\n",
       "    .dataframe thead th {\n",
       "        text-align: right;\n",
       "    }\n",
       "</style>\n",
       "<table border=\"1\" class=\"dataframe\">\n",
       "  <thead>\n",
       "    <tr style=\"text-align: right;\">\n",
       "      <th></th>\n",
       "      <th>Mannschaft</th>\n",
       "      <th>Anzahl überd.</th>\n",
       "      <th>Anzahl erwartet</th>\n",
       "      <th>Anzahl unterd.</th>\n",
       "    </tr>\n",
       "  </thead>\n",
       "  <tbody>\n",
       "    <tr>\n",
       "      <th>0</th>\n",
       "      <td>AC Bellinzona</td>\n",
       "      <td>1</td>\n",
       "      <td>1</td>\n",
       "      <td>1</td>\n",
       "    </tr>\n",
       "    <tr>\n",
       "      <th>1</th>\n",
       "      <td>BSC Young Boys</td>\n",
       "      <td>4</td>\n",
       "      <td>5</td>\n",
       "      <td>4</td>\n",
       "    </tr>\n",
       "    <tr>\n",
       "      <th>2</th>\n",
       "      <td>FC Aarau</td>\n",
       "      <td>2</td>\n",
       "      <td>3</td>\n",
       "      <td>2</td>\n",
       "    </tr>\n",
       "    <tr>\n",
       "      <th>3</th>\n",
       "      <td>FC Basel</td>\n",
       "      <td>0</td>\n",
       "      <td>9</td>\n",
       "      <td>4</td>\n",
       "    </tr>\n",
       "    <tr>\n",
       "      <th>4</th>\n",
       "      <td>FC Lugano</td>\n",
       "      <td>2</td>\n",
       "      <td>1</td>\n",
       "      <td>0</td>\n",
       "    </tr>\n",
       "    <tr>\n",
       "      <th>5</th>\n",
       "      <td>FC Luzern</td>\n",
       "      <td>7</td>\n",
       "      <td>3</td>\n",
       "      <td>2</td>\n",
       "    </tr>\n",
       "    <tr>\n",
       "      <th>6</th>\n",
       "      <td>FC Schaffhausen</td>\n",
       "      <td>0</td>\n",
       "      <td>2</td>\n",
       "      <td>0</td>\n",
       "    </tr>\n",
       "    <tr>\n",
       "      <th>7</th>\n",
       "      <td>FC Sion</td>\n",
       "      <td>1</td>\n",
       "      <td>1</td>\n",
       "      <td>10</td>\n",
       "    </tr>\n",
       "    <tr>\n",
       "      <th>8</th>\n",
       "      <td>FC St. Gallen</td>\n",
       "      <td>5</td>\n",
       "      <td>2</td>\n",
       "      <td>4</td>\n",
       "    </tr>\n",
       "    <tr>\n",
       "      <th>9</th>\n",
       "      <td>FC Thun</td>\n",
       "      <td>8</td>\n",
       "      <td>1</td>\n",
       "      <td>1</td>\n",
       "    </tr>\n",
       "    <tr>\n",
       "      <th>10</th>\n",
       "      <td>FC Vaduz</td>\n",
       "      <td>1</td>\n",
       "      <td>3</td>\n",
       "      <td>0</td>\n",
       "    </tr>\n",
       "    <tr>\n",
       "      <th>11</th>\n",
       "      <td>FC Zürich</td>\n",
       "      <td>7</td>\n",
       "      <td>2</td>\n",
       "      <td>3</td>\n",
       "    </tr>\n",
       "    <tr>\n",
       "      <th>12</th>\n",
       "      <td>Grasshoppers</td>\n",
       "      <td>5</td>\n",
       "      <td>0</td>\n",
       "      <td>8</td>\n",
       "    </tr>\n",
       "    <tr>\n",
       "      <th>13</th>\n",
       "      <td>Lausanne-Sport</td>\n",
       "      <td>2</td>\n",
       "      <td>1</td>\n",
       "      <td>2</td>\n",
       "    </tr>\n",
       "    <tr>\n",
       "      <th>14</th>\n",
       "      <td>Neuchâtel Xamax</td>\n",
       "      <td>1</td>\n",
       "      <td>3</td>\n",
       "      <td>2</td>\n",
       "    </tr>\n",
       "    <tr>\n",
       "      <th>15</th>\n",
       "      <td>Servette FC</td>\n",
       "      <td>1</td>\n",
       "      <td>0</td>\n",
       "      <td>1</td>\n",
       "    </tr>\n",
       "    <tr>\n",
       "      <th>16</th>\n",
       "      <td>Yverdon-Sport</td>\n",
       "      <td>0</td>\n",
       "      <td>1</td>\n",
       "      <td>0</td>\n",
       "    </tr>\n",
       "  </tbody>\n",
       "</table>\n",
       "</div>"
      ],
      "text/plain": [
       "         Mannschaft  Anzahl überd.  Anzahl erwartet  Anzahl unterd.\n",
       "0     AC Bellinzona              1                1               1\n",
       "1    BSC Young Boys              4                5               4\n",
       "2          FC Aarau              2                3               2\n",
       "3          FC Basel              0                9               4\n",
       "4         FC Lugano              2                1               0\n",
       "5         FC Luzern              7                3               2\n",
       "6   FC Schaffhausen              0                2               0\n",
       "7           FC Sion              1                1              10\n",
       "8     FC St. Gallen              5                2               4\n",
       "9           FC Thun              8                1               1\n",
       "10         FC Vaduz              1                3               0\n",
       "11        FC Zürich              7                2               3\n",
       "12     Grasshoppers              5                0               8\n",
       "13   Lausanne-Sport              2                1               2\n",
       "14  Neuchâtel Xamax              1                3               2\n",
       "15      Servette FC              1                0               1\n",
       "16    Yverdon-Sport              0                1               0"
      ]
     },
     "execution_count": 16,
     "metadata": {},
     "output_type": "execute_result"
    }
   ],
   "source": [
    "# jetzt muss ich noch die Spalten löschen, die ich gar nicht brauche: 'Saisons 05-17' und 'Rangsumme'\n",
    "\n",
    "del df_performer['Saisons 05-17']\n",
    "del df_performer['Rangsumme']\n",
    "\n",
    "df_performer"
   ]
  },
  {
   "cell_type": "code",
   "execution_count": 17,
   "metadata": {},
   "outputs": [
    {
     "data": {
      "text/plain": [
       "<matplotlib.legend.Legend at 0x1194f50f0>"
      ]
     },
     "execution_count": 17,
     "metadata": {},
     "output_type": "execute_result"
    },
    {
     "data": {
      "image/png": "[encoded data removed]",
      "text/plain": [
       "<Figure size 720x576 with 1 Axes>"
      ]
     },
     "metadata": {
      "needs_background": "light"
     },
     "output_type": "display_data"
    }
   ],
   "source": [
    "# ich lasse mit die Grafik noch einmal ausgeben:\n",
    "\n",
    "ax = df_performer.plot.barh(stacked=True);\n",
    "\n",
    "ax.figure.set_size_inches(10,8)\n",
    "ax.set_title(\"Die Over- und Underperformer der Liga\")\n",
    "ax.set_ylabel('Teams')\n",
    "ax.set_xlabel('Anzahl')\n",
    "ax.legend(loc='upper right')"
   ]
  },
  {
   "cell_type": "code",
   "execution_count": 19,
   "metadata": {},
   "outputs": [
    {
     "data": {
      "text/html": [
       "<div>\n",
       "<style scoped>\n",
       "    .dataframe tbody tr th:only-of-type {\n",
       "        vertical-align: middle;\n",
       "    }\n",
       "\n",
       "    .dataframe tbody tr th {\n",
       "        vertical-align: top;\n",
       "    }\n",
       "\n",
       "    .dataframe thead th {\n",
       "        text-align: right;\n",
       "    }\n",
       "</style>\n",
       "<table border=\"1\" class=\"dataframe\">\n",
       "  <thead>\n",
       "    <tr style=\"text-align: right;\">\n",
       "      <th></th>\n",
       "      <th>Anzahl überd.</th>\n",
       "      <th>Anzahl erwartet</th>\n",
       "      <th>Anzahl unterd.</th>\n",
       "    </tr>\n",
       "    <tr>\n",
       "      <th>Mannschaft</th>\n",
       "      <th></th>\n",
       "      <th></th>\n",
       "      <th></th>\n",
       "    </tr>\n",
       "  </thead>\n",
       "  <tbody>\n",
       "    <tr>\n",
       "      <th>AC Bellinzona</th>\n",
       "      <td>1</td>\n",
       "      <td>1</td>\n",
       "      <td>1</td>\n",
       "    </tr>\n",
       "    <tr>\n",
       "      <th>BSC Young Boys</th>\n",
       "      <td>4</td>\n",
       "      <td>5</td>\n",
       "      <td>4</td>\n",
       "    </tr>\n",
       "    <tr>\n",
       "      <th>FC Aarau</th>\n",
       "      <td>2</td>\n",
       "      <td>3</td>\n",
       "      <td>2</td>\n",
       "    </tr>\n",
       "    <tr>\n",
       "      <th>FC Basel</th>\n",
       "      <td>0</td>\n",
       "      <td>9</td>\n",
       "      <td>4</td>\n",
       "    </tr>\n",
       "    <tr>\n",
       "      <th>FC Lugano</th>\n",
       "      <td>2</td>\n",
       "      <td>1</td>\n",
       "      <td>0</td>\n",
       "    </tr>\n",
       "    <tr>\n",
       "      <th>FC Luzern</th>\n",
       "      <td>7</td>\n",
       "      <td>3</td>\n",
       "      <td>2</td>\n",
       "    </tr>\n",
       "    <tr>\n",
       "      <th>FC Schaffhausen</th>\n",
       "      <td>0</td>\n",
       "      <td>2</td>\n",
       "      <td>0</td>\n",
       "    </tr>\n",
       "    <tr>\n",
       "      <th>FC Sion</th>\n",
       "      <td>1</td>\n",
       "      <td>1</td>\n",
       "      <td>10</td>\n",
       "    </tr>\n",
       "    <tr>\n",
       "      <th>FC St. Gallen</th>\n",
       "      <td>5</td>\n",
       "      <td>2</td>\n",
       "      <td>4</td>\n",
       "    </tr>\n",
       "    <tr>\n",
       "      <th>FC Thun</th>\n",
       "      <td>8</td>\n",
       "      <td>1</td>\n",
       "      <td>1</td>\n",
       "    </tr>\n",
       "    <tr>\n",
       "      <th>FC Vaduz</th>\n",
       "      <td>1</td>\n",
       "      <td>3</td>\n",
       "      <td>0</td>\n",
       "    </tr>\n",
       "    <tr>\n",
       "      <th>FC Zürich</th>\n",
       "      <td>7</td>\n",
       "      <td>2</td>\n",
       "      <td>3</td>\n",
       "    </tr>\n",
       "    <tr>\n",
       "      <th>Grasshoppers</th>\n",
       "      <td>5</td>\n",
       "      <td>0</td>\n",
       "      <td>8</td>\n",
       "    </tr>\n",
       "    <tr>\n",
       "      <th>Lausanne-Sport</th>\n",
       "      <td>2</td>\n",
       "      <td>1</td>\n",
       "      <td>2</td>\n",
       "    </tr>\n",
       "    <tr>\n",
       "      <th>Neuchâtel Xamax</th>\n",
       "      <td>1</td>\n",
       "      <td>3</td>\n",
       "      <td>2</td>\n",
       "    </tr>\n",
       "    <tr>\n",
       "      <th>Servette FC</th>\n",
       "      <td>1</td>\n",
       "      <td>0</td>\n",
       "      <td>1</td>\n",
       "    </tr>\n",
       "    <tr>\n",
       "      <th>Yverdon-Sport</th>\n",
       "      <td>0</td>\n",
       "      <td>1</td>\n",
       "      <td>0</td>\n",
       "    </tr>\n",
       "  </tbody>\n",
       "</table>\n",
       "</div>"
      ],
      "text/plain": [
       "                 Anzahl überd.  Anzahl erwartet  Anzahl unterd.\n",
       "Mannschaft                                                     \n",
       "AC Bellinzona                1                1               1\n",
       "BSC Young Boys               4                5               4\n",
       "FC Aarau                     2                3               2\n",
       "FC Basel                     0                9               4\n",
       "FC Lugano                    2                1               0\n",
       "FC Luzern                    7                3               2\n",
       "FC Schaffhausen              0                2               0\n",
       "FC Sion                      1                1              10\n",
       "FC St. Gallen                5                2               4\n",
       "FC Thun                      8                1               1\n",
       "FC Vaduz                     1                3               0\n",
       "FC Zürich                    7                2               3\n",
       "Grasshoppers                 5                0               8\n",
       "Lausanne-Sport               2                1               2\n",
       "Neuchâtel Xamax              1                3               2\n",
       "Servette FC                  1                0               1\n",
       "Yverdon-Sport                0                1               0"
      ]
     },
     "execution_count": 19,
     "metadata": {},
     "output_type": "execute_result"
    }
   ],
   "source": [
    "# ich will auf der y-Achse keine Nummerierung, sondern die Namen der Clubs\n",
    "# dafür muss ich den Index des Dataframes neu bestimmen:\n",
    "\n",
    "df_performer.set_index('Mannschaft', inplace=True)\n",
    "df_performer"
   ]
  },
  {
   "cell_type": "code",
   "execution_count": 20,
   "metadata": {},
   "outputs": [
    {
     "data": {
      "text/plain": [
       "<matplotlib.legend.Legend at 0x1198d1240>"
      ]
     },
     "execution_count": 20,
     "metadata": {},
     "output_type": "execute_result"
    },
    {
     "data": {
      "image/png": "[encoded data removed]",
      "text/plain": [
       "<Figure size 720x576 with 1 Axes>"
      ]
     },
     "metadata": {
      "needs_background": "light"
     },
     "output_type": "display_data"
    }
   ],
   "source": [
    "# jetzt sollte ich die Grafik erhalten, die ich will:\n",
    "\n",
    "ax = df_performer.plot.barh(stacked=True);\n",
    "\n",
    "ax.figure.set_size_inches(10,8)\n",
    "ax.set_title(\"Die Over- und Underperformer der Liga\")\n",
    "ax.set_ylabel('Teams')\n",
    "ax.set_xlabel('Anzahl')\n",
    "ax.legend(loc='upper right')"
   ]
  },
  {
   "cell_type": "code",
   "execution_count": null,
   "metadata": {},
   "outputs": [],
   "source": []
  },
  {
   "cell_type": "code",
   "execution_count": null,
   "metadata": {},
   "outputs": [],
   "source": []
  },
  {
   "cell_type": "code",
   "execution_count": null,
   "metadata": {},
   "outputs": [],
   "source": []
  }
 ],
 "metadata": {
  "kernelspec": {
   "display_name": "Python 3",
   "language": "python",
   "name": "python3"
  },
  "language_info": {
   "codemirror_mode": {
    "name": "ipython",
    "version": 3
   },
   "file_extension": ".py",
   "mimetype": "text/x-python",
   "name": "python",
   "nbconvert_exporter": "python",
   "pygments_lexer": "ipython3",
   "version": "3.7.0"
  }
 },
 "nbformat": 4,
 "nbformat_minor": 2
}
